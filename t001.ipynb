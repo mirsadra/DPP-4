{
 "cells": [
  {
   "cell_type": "markdown",
   "metadata": {},
   "source": [
    "\n",
    "# T001 "
   ]
  },
  {
   "cell_type": "markdown",
   "metadata": {},
   "source": [
    "## Connect to ChEMBL database"
   ]
  },
  {
   "cell_type": "code",
   "execution_count": 2,
   "metadata": {},
   "outputs": [],
   "source": [
    "import math\n",
    "from pathlib import Path\n",
    "from zipfile import ZipFile\n",
    "from tempfile import TemporaryDirectory\n",
    "\n",
    "import numpy as np\n",
    "import pandas as pd\n",
    "from rdkit.Chem import PandasTools\n",
    "from chembl_webresource_client.new_client import new_client\n",
    "from tqdm.auto import tqdm"
   ]
  },
  {
   "cell_type": "code",
   "execution_count": 3,
   "metadata": {},
   "outputs": [],
   "source": [
    "HERE = Path(_dh[-1])\n",
    "DATA = HERE / \"data\""
   ]
  },
  {
   "cell_type": "code",
   "execution_count": 4,
   "metadata": {},
   "outputs": [],
   "source": [
    "# Next, we create resource objects for API access\n",
    "targets_api = new_client.target\n",
    "compounds_api = new_client.molecule\n",
    "bioactivities_api = new_client.activity"
   ]
  },
  {
   "cell_type": "code",
   "execution_count": 5,
   "metadata": {},
   "outputs": [
    {
     "data": {
      "text/plain": [
       "chembl_webresource_client.query_set.QuerySet"
      ]
     },
     "execution_count": 5,
     "metadata": {},
     "output_type": "execute_result"
    }
   ],
   "source": [
    "type(targets_api)"
   ]
  },
  {
   "cell_type": "code",
   "execution_count": 6,
   "metadata": {},
   "outputs": [],
   "source": [
    "# Get UniProt ID of the target of interest \n",
    "uniprot_id = \"P27487\""
   ]
  },
  {
   "cell_type": "code",
   "execution_count": 7,
   "metadata": {},
   "outputs": [
    {
     "name": "stdout",
     "output_type": "stream",
     "text": [
      "The type of the targets is \"<class 'chembl_webresource_client.query_set.QuerySet'>\"\n"
     ]
    }
   ],
   "source": [
    "# Get target information from ChEMBL but restrict it to specified values only\n",
    "targets = targets_api.get(target_components__accession=uniprot_id).only(\n",
    "    \"target_chembl_id\", \"organism\", \"pref_name\", \"target_type\"\n",
    ")\n",
    "print(f'The type of the targets is \"{type(targets)}\"')"
   ]
  },
  {
   "cell_type": "code",
   "execution_count": 8,
   "metadata": {},
   "outputs": [
    {
     "data": {
      "text/html": [
       "<div>\n",
       "<style scoped>\n",
       "    .dataframe tbody tr th:only-of-type {\n",
       "        vertical-align: middle;\n",
       "    }\n",
       "\n",
       "    .dataframe tbody tr th {\n",
       "        vertical-align: top;\n",
       "    }\n",
       "\n",
       "    .dataframe thead th {\n",
       "        text-align: right;\n",
       "    }\n",
       "</style>\n",
       "<table border=\"1\" class=\"dataframe\">\n",
       "  <thead>\n",
       "    <tr style=\"text-align: right;\">\n",
       "      <th></th>\n",
       "      <th>organism</th>\n",
       "      <th>pref_name</th>\n",
       "      <th>target_chembl_id</th>\n",
       "      <th>target_type</th>\n",
       "    </tr>\n",
       "  </thead>\n",
       "  <tbody>\n",
       "    <tr>\n",
       "      <th>0</th>\n",
       "      <td>Homo sapiens</td>\n",
       "      <td>Dipeptidyl peptidase IV</td>\n",
       "      <td>CHEMBL284</td>\n",
       "      <td>SINGLE PROTEIN</td>\n",
       "    </tr>\n",
       "    <tr>\n",
       "      <th>1</th>\n",
       "      <td>Homo sapiens</td>\n",
       "      <td>Dipeptidyl peptidase IV</td>\n",
       "      <td>CHEMBL284</td>\n",
       "      <td>SINGLE PROTEIN</td>\n",
       "    </tr>\n",
       "    <tr>\n",
       "      <th>2</th>\n",
       "      <td>Homo sapiens</td>\n",
       "      <td>Dipeptidyl peptidase II and dipeptidyl peptida...</td>\n",
       "      <td>CHEMBL2111469</td>\n",
       "      <td>SELECTIVITY GROUP</td>\n",
       "    </tr>\n",
       "  </tbody>\n",
       "</table>\n",
       "</div>"
      ],
      "text/plain": [
       "       organism                                          pref_name  \\\n",
       "0  Homo sapiens                            Dipeptidyl peptidase IV   \n",
       "1  Homo sapiens                            Dipeptidyl peptidase IV   \n",
       "2  Homo sapiens  Dipeptidyl peptidase II and dipeptidyl peptida...   \n",
       "\n",
       "  target_chembl_id        target_type  \n",
       "0        CHEMBL284     SINGLE PROTEIN  \n",
       "1        CHEMBL284     SINGLE PROTEIN  \n",
       "2    CHEMBL2111469  SELECTIVITY GROUP  "
      ]
     },
     "execution_count": 8,
     "metadata": {},
     "output_type": "execute_result"
    }
   ],
   "source": [
    "# Download target data from ChEMBL\n",
    "targets = pd.DataFrame.from_records(targets)\n",
    "targets"
   ]
  },
  {
   "cell_type": "code",
   "execution_count": 9,
   "metadata": {},
   "outputs": [
    {
     "data": {
      "text/plain": [
       "organism                       Homo sapiens\n",
       "pref_name           Dipeptidyl peptidase IV\n",
       "target_chembl_id                  CHEMBL284\n",
       "target_type                  SINGLE PROTEIN\n",
       "Name: 0, dtype: object"
      ]
     },
     "execution_count": 9,
     "metadata": {},
     "output_type": "execute_result"
    }
   ],
   "source": [
    "# After checking the entries, we select the first entry as our target of interest:\n",
    "# It is a single protein and represents the Dipeptidyl peptidase IV (CHEMBL284)\n",
    "target = targets.iloc[0]\n",
    "target"
   ]
  },
  {
   "cell_type": "code",
   "execution_count": 10,
   "metadata": {},
   "outputs": [
    {
     "name": "stdout",
     "output_type": "stream",
     "text": [
      "The target ChEMBL ID is CHEMBL284\n"
     ]
    }
   ],
   "source": [
    "# Save selected ChEMBL ID.\n",
    "chembl_id = target.target_chembl_id\n",
    "print(f\"The target ChEMBL ID is {chembl_id}\")"
   ]
  },
  {
   "cell_type": "code",
   "execution_count": 11,
   "metadata": {},
   "outputs": [
    {
     "name": "stdout",
     "output_type": "stream",
     "text": [
      "Length and type of bioactivities object: 4425, <class 'chembl_webresource_client.query_set.QuerySet'>\n"
     ]
    }
   ],
   "source": [
    "# Now, we want to query bioactivity data for the target of interest.\n",
    "# Fetch bioactivity data for the target from ChEMBL¶\n",
    "bioactivities = bioactivities_api.filter(\n",
    "    target_chembl_id=chembl_id, type=\"IC50\", relation=\"=\", assay_type=\"B\"\n",
    ").only(\n",
    "    \"activity_id\",\n",
    "    \"assay_chembl_id\",\n",
    "    \"assay_description\",\n",
    "    \"assay_type\",\n",
    "    \"molecule_chembl_id\",\n",
    "    \"type\",\n",
    "    \"standard_units\",\n",
    "    \"relation\",\n",
    "    \"standard_value\",\n",
    "    \"target_chembl_id\",\n",
    "    \"target_organism\",\n",
    ")\n",
    "\n",
    "print(f\"Length and type of bioactivities object: {len(bioactivities)}, {type(bioactivities)}\")"
   ]
  },
  {
   "cell_type": "code",
   "execution_count": 12,
   "metadata": {},
   "outputs": [
    {
     "name": "stdout",
     "output_type": "stream",
     "text": [
      "Length and type of first element: 13, <class 'dict'>\n"
     ]
    },
    {
     "data": {
      "text/plain": [
       "{'activity_id': 105501,\n",
       " 'assay_chembl_id': 'CHEMBL666573',\n",
       " 'assay_description': 'In vitro inhibition of human Dipeptidylpeptidase IV.',\n",
       " 'assay_type': 'B',\n",
       " 'molecule_chembl_id': 'CHEMBL93558',\n",
       " 'relation': '=',\n",
       " 'standard_units': 'nM',\n",
       " 'standard_value': '217000.0',\n",
       " 'target_chembl_id': 'CHEMBL284',\n",
       " 'target_organism': 'Homo sapiens',\n",
       " 'type': 'IC50',\n",
       " 'units': 'uM',\n",
       " 'value': '217.0'}"
      ]
     },
     "execution_count": 12,
     "metadata": {},
     "output_type": "execute_result"
    }
   ],
   "source": [
    "# Each entry in our bioactivity set holds the following information:\n",
    "print(f\"Length and type of first element: {len(bioactivities[0])}, {type(bioactivities[0])}\")\n",
    "bioactivities[0]"
   ]
  },
  {
   "cell_type": "code",
   "execution_count": 13,
   "metadata": {},
   "outputs": [
    {
     "name": "stdout",
     "output_type": "stream",
     "text": [
      "DataFrame shape: (4425, 13)\n"
     ]
    },
    {
     "data": {
      "text/html": [
       "<div>\n",
       "<style scoped>\n",
       "    .dataframe tbody tr th:only-of-type {\n",
       "        vertical-align: middle;\n",
       "    }\n",
       "\n",
       "    .dataframe tbody tr th {\n",
       "        vertical-align: top;\n",
       "    }\n",
       "\n",
       "    .dataframe thead th {\n",
       "        text-align: right;\n",
       "    }\n",
       "</style>\n",
       "<table border=\"1\" class=\"dataframe\">\n",
       "  <thead>\n",
       "    <tr style=\"text-align: right;\">\n",
       "      <th></th>\n",
       "      <th>activity_id</th>\n",
       "      <th>assay_chembl_id</th>\n",
       "      <th>assay_description</th>\n",
       "      <th>assay_type</th>\n",
       "      <th>molecule_chembl_id</th>\n",
       "      <th>relation</th>\n",
       "      <th>standard_units</th>\n",
       "      <th>standard_value</th>\n",
       "      <th>target_chembl_id</th>\n",
       "      <th>target_organism</th>\n",
       "      <th>type</th>\n",
       "      <th>units</th>\n",
       "      <th>value</th>\n",
       "    </tr>\n",
       "  </thead>\n",
       "  <tbody>\n",
       "    <tr>\n",
       "      <th>0</th>\n",
       "      <td>105501</td>\n",
       "      <td>CHEMBL666573</td>\n",
       "      <td>In vitro inhibition of human Dipeptidylpeptida...</td>\n",
       "      <td>B</td>\n",
       "      <td>CHEMBL93558</td>\n",
       "      <td>=</td>\n",
       "      <td>nM</td>\n",
       "      <td>217000.0</td>\n",
       "      <td>CHEMBL284</td>\n",
       "      <td>Homo sapiens</td>\n",
       "      <td>IC50</td>\n",
       "      <td>uM</td>\n",
       "      <td>217.0</td>\n",
       "    </tr>\n",
       "    <tr>\n",
       "      <th>1</th>\n",
       "      <td>106644</td>\n",
       "      <td>CHEMBL666573</td>\n",
       "      <td>In vitro inhibition of human Dipeptidylpeptida...</td>\n",
       "      <td>B</td>\n",
       "      <td>CHEMBL443622</td>\n",
       "      <td>=</td>\n",
       "      <td>nM</td>\n",
       "      <td>41000.0</td>\n",
       "      <td>CHEMBL284</td>\n",
       "      <td>Homo sapiens</td>\n",
       "      <td>IC50</td>\n",
       "      <td>uM</td>\n",
       "      <td>41.0</td>\n",
       "    </tr>\n",
       "    <tr>\n",
       "      <th>2</th>\n",
       "      <td>106647</td>\n",
       "      <td>CHEMBL666573</td>\n",
       "      <td>In vitro inhibition of human Dipeptidylpeptida...</td>\n",
       "      <td>B</td>\n",
       "      <td>CHEMBL403882</td>\n",
       "      <td>=</td>\n",
       "      <td>nM</td>\n",
       "      <td>15000.0</td>\n",
       "      <td>CHEMBL284</td>\n",
       "      <td>Homo sapiens</td>\n",
       "      <td>IC50</td>\n",
       "      <td>uM</td>\n",
       "      <td>15.0</td>\n",
       "    </tr>\n",
       "    <tr>\n",
       "      <th>3</th>\n",
       "      <td>108924</td>\n",
       "      <td>CHEMBL666573</td>\n",
       "      <td>In vitro inhibition of human Dipeptidylpeptida...</td>\n",
       "      <td>B</td>\n",
       "      <td>CHEMBL328795</td>\n",
       "      <td>=</td>\n",
       "      <td>nM</td>\n",
       "      <td>188000.0</td>\n",
       "      <td>CHEMBL284</td>\n",
       "      <td>Homo sapiens</td>\n",
       "      <td>IC50</td>\n",
       "      <td>uM</td>\n",
       "      <td>188.0</td>\n",
       "    </tr>\n",
       "    <tr>\n",
       "      <th>4</th>\n",
       "      <td>111620</td>\n",
       "      <td>CHEMBL666573</td>\n",
       "      <td>In vitro inhibition of human Dipeptidylpeptida...</td>\n",
       "      <td>B</td>\n",
       "      <td>CHEMBL97674</td>\n",
       "      <td>=</td>\n",
       "      <td>nM</td>\n",
       "      <td>247000.0</td>\n",
       "      <td>CHEMBL284</td>\n",
       "      <td>Homo sapiens</td>\n",
       "      <td>IC50</td>\n",
       "      <td>uM</td>\n",
       "      <td>247.0</td>\n",
       "    </tr>\n",
       "  </tbody>\n",
       "</table>\n",
       "</div>"
      ],
      "text/plain": [
       "   activity_id assay_chembl_id  \\\n",
       "0       105501    CHEMBL666573   \n",
       "1       106644    CHEMBL666573   \n",
       "2       106647    CHEMBL666573   \n",
       "3       108924    CHEMBL666573   \n",
       "4       111620    CHEMBL666573   \n",
       "\n",
       "                                   assay_description assay_type  \\\n",
       "0  In vitro inhibition of human Dipeptidylpeptida...          B   \n",
       "1  In vitro inhibition of human Dipeptidylpeptida...          B   \n",
       "2  In vitro inhibition of human Dipeptidylpeptida...          B   \n",
       "3  In vitro inhibition of human Dipeptidylpeptida...          B   \n",
       "4  In vitro inhibition of human Dipeptidylpeptida...          B   \n",
       "\n",
       "  molecule_chembl_id relation standard_units standard_value target_chembl_id  \\\n",
       "0        CHEMBL93558        =             nM       217000.0        CHEMBL284   \n",
       "1       CHEMBL443622        =             nM        41000.0        CHEMBL284   \n",
       "2       CHEMBL403882        =             nM        15000.0        CHEMBL284   \n",
       "3       CHEMBL328795        =             nM       188000.0        CHEMBL284   \n",
       "4        CHEMBL97674        =             nM       247000.0        CHEMBL284   \n",
       "\n",
       "  target_organism  type units  value  \n",
       "0    Homo sapiens  IC50    uM  217.0  \n",
       "1    Homo sapiens  IC50    uM   41.0  \n",
       "2    Homo sapiens  IC50    uM   15.0  \n",
       "3    Homo sapiens  IC50    uM  188.0  \n",
       "4    Homo sapiens  IC50    uM  247.0  "
      ]
     },
     "execution_count": 13,
     "metadata": {},
     "output_type": "execute_result"
    }
   ],
   "source": [
    "# Download bioactivity data from ChEMBL\n",
    "bioactivities_df = pd.DataFrame.from_dict(bioactivities)\n",
    "print(f\"DataFrame shape: {bioactivities_df.shape}\")\n",
    "bioactivities_df.head()"
   ]
  },
  {
   "cell_type": "markdown",
   "metadata": {},
   "source": [
    "Note that the first two rows describe the same bioactivity entry; we will remove such artifacts later during the deduplication step. Note also that we have columns for standard_units/units and standard_values/values; in the following, we will use the standardized columns (standardization by ChEMBL), and thus, we drop the other two columns."
   ]
  },
  {
   "cell_type": "code",
   "execution_count": 14,
   "metadata": {},
   "outputs": [
    {
     "data": {
      "text/plain": [
       "array(['uM', 'nM', 'ug ml-1', 'nmol/L', 'nM/L', 'mM', 'umol/L', 'mol/L'],\n",
       "      dtype=object)"
      ]
     },
     "execution_count": 14,
     "metadata": {},
     "output_type": "execute_result"
    }
   ],
   "source": [
    "bioactivities_df[\"units\"].unique()"
   ]
  },
  {
   "cell_type": "code",
   "execution_count": 15,
   "metadata": {},
   "outputs": [
    {
     "data": {
      "text/html": [
       "<div>\n",
       "<style scoped>\n",
       "    .dataframe tbody tr th:only-of-type {\n",
       "        vertical-align: middle;\n",
       "    }\n",
       "\n",
       "    .dataframe tbody tr th {\n",
       "        vertical-align: top;\n",
       "    }\n",
       "\n",
       "    .dataframe thead th {\n",
       "        text-align: right;\n",
       "    }\n",
       "</style>\n",
       "<table border=\"1\" class=\"dataframe\">\n",
       "  <thead>\n",
       "    <tr style=\"text-align: right;\">\n",
       "      <th></th>\n",
       "      <th>activity_id</th>\n",
       "      <th>assay_chembl_id</th>\n",
       "      <th>assay_description</th>\n",
       "      <th>assay_type</th>\n",
       "      <th>molecule_chembl_id</th>\n",
       "      <th>relation</th>\n",
       "      <th>standard_units</th>\n",
       "      <th>standard_value</th>\n",
       "      <th>target_chembl_id</th>\n",
       "      <th>target_organism</th>\n",
       "      <th>type</th>\n",
       "    </tr>\n",
       "  </thead>\n",
       "  <tbody>\n",
       "    <tr>\n",
       "      <th>0</th>\n",
       "      <td>105501</td>\n",
       "      <td>CHEMBL666573</td>\n",
       "      <td>In vitro inhibition of human Dipeptidylpeptida...</td>\n",
       "      <td>B</td>\n",
       "      <td>CHEMBL93558</td>\n",
       "      <td>=</td>\n",
       "      <td>nM</td>\n",
       "      <td>217000.0</td>\n",
       "      <td>CHEMBL284</td>\n",
       "      <td>Homo sapiens</td>\n",
       "      <td>IC50</td>\n",
       "    </tr>\n",
       "    <tr>\n",
       "      <th>1</th>\n",
       "      <td>106644</td>\n",
       "      <td>CHEMBL666573</td>\n",
       "      <td>In vitro inhibition of human Dipeptidylpeptida...</td>\n",
       "      <td>B</td>\n",
       "      <td>CHEMBL443622</td>\n",
       "      <td>=</td>\n",
       "      <td>nM</td>\n",
       "      <td>41000.0</td>\n",
       "      <td>CHEMBL284</td>\n",
       "      <td>Homo sapiens</td>\n",
       "      <td>IC50</td>\n",
       "    </tr>\n",
       "    <tr>\n",
       "      <th>2</th>\n",
       "      <td>106647</td>\n",
       "      <td>CHEMBL666573</td>\n",
       "      <td>In vitro inhibition of human Dipeptidylpeptida...</td>\n",
       "      <td>B</td>\n",
       "      <td>CHEMBL403882</td>\n",
       "      <td>=</td>\n",
       "      <td>nM</td>\n",
       "      <td>15000.0</td>\n",
       "      <td>CHEMBL284</td>\n",
       "      <td>Homo sapiens</td>\n",
       "      <td>IC50</td>\n",
       "    </tr>\n",
       "    <tr>\n",
       "      <th>3</th>\n",
       "      <td>108924</td>\n",
       "      <td>CHEMBL666573</td>\n",
       "      <td>In vitro inhibition of human Dipeptidylpeptida...</td>\n",
       "      <td>B</td>\n",
       "      <td>CHEMBL328795</td>\n",
       "      <td>=</td>\n",
       "      <td>nM</td>\n",
       "      <td>188000.0</td>\n",
       "      <td>CHEMBL284</td>\n",
       "      <td>Homo sapiens</td>\n",
       "      <td>IC50</td>\n",
       "    </tr>\n",
       "    <tr>\n",
       "      <th>4</th>\n",
       "      <td>111620</td>\n",
       "      <td>CHEMBL666573</td>\n",
       "      <td>In vitro inhibition of human Dipeptidylpeptida...</td>\n",
       "      <td>B</td>\n",
       "      <td>CHEMBL97674</td>\n",
       "      <td>=</td>\n",
       "      <td>nM</td>\n",
       "      <td>247000.0</td>\n",
       "      <td>CHEMBL284</td>\n",
       "      <td>Homo sapiens</td>\n",
       "      <td>IC50</td>\n",
       "    </tr>\n",
       "  </tbody>\n",
       "</table>\n",
       "</div>"
      ],
      "text/plain": [
       "   activity_id assay_chembl_id  \\\n",
       "0       105501    CHEMBL666573   \n",
       "1       106644    CHEMBL666573   \n",
       "2       106647    CHEMBL666573   \n",
       "3       108924    CHEMBL666573   \n",
       "4       111620    CHEMBL666573   \n",
       "\n",
       "                                   assay_description assay_type  \\\n",
       "0  In vitro inhibition of human Dipeptidylpeptida...          B   \n",
       "1  In vitro inhibition of human Dipeptidylpeptida...          B   \n",
       "2  In vitro inhibition of human Dipeptidylpeptida...          B   \n",
       "3  In vitro inhibition of human Dipeptidylpeptida...          B   \n",
       "4  In vitro inhibition of human Dipeptidylpeptida...          B   \n",
       "\n",
       "  molecule_chembl_id relation standard_units standard_value target_chembl_id  \\\n",
       "0        CHEMBL93558        =             nM       217000.0        CHEMBL284   \n",
       "1       CHEMBL443622        =             nM        41000.0        CHEMBL284   \n",
       "2       CHEMBL403882        =             nM        15000.0        CHEMBL284   \n",
       "3       CHEMBL328795        =             nM       188000.0        CHEMBL284   \n",
       "4        CHEMBL97674        =             nM       247000.0        CHEMBL284   \n",
       "\n",
       "  target_organism  type  \n",
       "0    Homo sapiens  IC50  \n",
       "1    Homo sapiens  IC50  \n",
       "2    Homo sapiens  IC50  \n",
       "3    Homo sapiens  IC50  \n",
       "4    Homo sapiens  IC50  "
      ]
     },
     "execution_count": 15,
     "metadata": {},
     "output_type": "execute_result"
    }
   ],
   "source": [
    "bioactivities_df.drop([\"units\", \"value\"], axis=1, inplace=True)\n",
    "bioactivities_df.head()"
   ]
  },
  {
   "cell_type": "code",
   "execution_count": 16,
   "metadata": {},
   "outputs": [
    {
     "data": {
      "text/plain": [
       "activity_id            int64\n",
       "assay_chembl_id       object\n",
       "assay_description     object\n",
       "assay_type            object\n",
       "molecule_chembl_id    object\n",
       "relation              object\n",
       "standard_units        object\n",
       "standard_value        object\n",
       "target_chembl_id      object\n",
       "target_organism       object\n",
       "type                  object\n",
       "dtype: object"
      ]
     },
     "execution_count": 16,
     "metadata": {},
     "output_type": "execute_result"
    }
   ],
   "source": [
    "# Preprocess and filter bioactivity data¶\n",
    "# 1. Convert datatype of “standard_value” from “object” to “float”\n",
    "bioactivities_df.dtypes"
   ]
  },
  {
   "cell_type": "code",
   "execution_count": 17,
   "metadata": {},
   "outputs": [
    {
     "data": {
      "text/plain": [
       "activity_id             int64\n",
       "assay_chembl_id        object\n",
       "assay_description      object\n",
       "assay_type             object\n",
       "molecule_chembl_id     object\n",
       "relation               object\n",
       "standard_units         object\n",
       "standard_value        float64\n",
       "target_chembl_id       object\n",
       "target_organism        object\n",
       "type                   object\n",
       "dtype: object"
      ]
     },
     "execution_count": 17,
     "metadata": {},
     "output_type": "execute_result"
    }
   ],
   "source": [
    "bioactivities_df = bioactivities_df.astype({\"standard_value\": \"float64\"})\n",
    "bioactivities_df.dtypes"
   ]
  },
  {
   "cell_type": "code",
   "execution_count": 18,
   "metadata": {},
   "outputs": [
    {
     "name": "stdout",
     "output_type": "stream",
     "text": [
      "DataFrame shape: (4425, 11)\n"
     ]
    }
   ],
   "source": [
    "# 2. Delete entries with missing values\n",
    "bioactivities_df.dropna(axis=0, how=\"any\", inplace=True)\n",
    "print(f\"DataFrame shape: {bioactivities_df.shape}\")"
   ]
  },
  {
   "cell_type": "code",
   "execution_count": 19,
   "metadata": {},
   "outputs": [
    {
     "name": "stdout",
     "output_type": "stream",
     "text": [
      "Units in downloaded data: ['nM' 'ug.mL-1']\n",
      "Number of non-nM entries:    20\n"
     ]
    }
   ],
   "source": [
    "# 3. Keep only entries with “standard_unit == nM”\n",
    "print(f\"Units in downloaded data: {bioactivities_df['standard_units'].unique()}\")\n",
    "print(\n",
    "    f\"Number of non-nM entries:\\\n",
    "    {bioactivities_df[bioactivities_df['standard_units'] != 'nM'].shape[0]}\"\n",
    ")"
   ]
  },
  {
   "cell_type": "code",
   "execution_count": 20,
   "metadata": {},
   "outputs": [
    {
     "name": "stdout",
     "output_type": "stream",
     "text": [
      "Units after filtering: ['nM']\n"
     ]
    }
   ],
   "source": [
    "bioactivities_df = bioactivities_df[bioactivities_df[\"standard_units\"] == \"nM\"]\n",
    "print(f\"Units after filtering: {bioactivities_df['standard_units'].unique()}\")"
   ]
  },
  {
   "cell_type": "code",
   "execution_count": 21,
   "metadata": {},
   "outputs": [
    {
     "name": "stdout",
     "output_type": "stream",
     "text": [
      "DataFrame shape: (4405, 11)\n"
     ]
    }
   ],
   "source": [
    "print(f\"DataFrame shape: {bioactivities_df.shape}\")"
   ]
  },
  {
   "cell_type": "code",
   "execution_count": null,
   "metadata": {},
   "outputs": [],
   "source": [
    "# 4. Delete duplicate molecules\n",
    "# bioactivities_df.drop_duplicates(\"molecule_chembl_id\", keep=\"first\", inplace=True)\n",
    "# print(f\"DataFrame shape: {bioactivities_df.shape}\")"
   ]
  },
  {
   "cell_type": "code",
   "execution_count": 22,
   "metadata": {},
   "outputs": [
    {
     "data": {
      "text/html": [
       "<div>\n",
       "<style scoped>\n",
       "    .dataframe tbody tr th:only-of-type {\n",
       "        vertical-align: middle;\n",
       "    }\n",
       "\n",
       "    .dataframe tbody tr th {\n",
       "        vertical-align: top;\n",
       "    }\n",
       "\n",
       "    .dataframe thead th {\n",
       "        text-align: right;\n",
       "    }\n",
       "</style>\n",
       "<table border=\"1\" class=\"dataframe\">\n",
       "  <thead>\n",
       "    <tr style=\"text-align: right;\">\n",
       "      <th></th>\n",
       "      <th>activity_id</th>\n",
       "      <th>assay_chembl_id</th>\n",
       "      <th>assay_description</th>\n",
       "      <th>assay_type</th>\n",
       "      <th>molecule_chembl_id</th>\n",
       "      <th>relation</th>\n",
       "      <th>standard_units</th>\n",
       "      <th>standard_value</th>\n",
       "      <th>target_chembl_id</th>\n",
       "      <th>target_organism</th>\n",
       "      <th>type</th>\n",
       "    </tr>\n",
       "  </thead>\n",
       "  <tbody>\n",
       "    <tr>\n",
       "      <th>0</th>\n",
       "      <td>105501</td>\n",
       "      <td>CHEMBL666573</td>\n",
       "      <td>In vitro inhibition of human Dipeptidylpeptida...</td>\n",
       "      <td>B</td>\n",
       "      <td>CHEMBL93558</td>\n",
       "      <td>=</td>\n",
       "      <td>nM</td>\n",
       "      <td>217000.0</td>\n",
       "      <td>CHEMBL284</td>\n",
       "      <td>Homo sapiens</td>\n",
       "      <td>IC50</td>\n",
       "    </tr>\n",
       "    <tr>\n",
       "      <th>1</th>\n",
       "      <td>106644</td>\n",
       "      <td>CHEMBL666573</td>\n",
       "      <td>In vitro inhibition of human Dipeptidylpeptida...</td>\n",
       "      <td>B</td>\n",
       "      <td>CHEMBL443622</td>\n",
       "      <td>=</td>\n",
       "      <td>nM</td>\n",
       "      <td>41000.0</td>\n",
       "      <td>CHEMBL284</td>\n",
       "      <td>Homo sapiens</td>\n",
       "      <td>IC50</td>\n",
       "    </tr>\n",
       "    <tr>\n",
       "      <th>2</th>\n",
       "      <td>106647</td>\n",
       "      <td>CHEMBL666573</td>\n",
       "      <td>In vitro inhibition of human Dipeptidylpeptida...</td>\n",
       "      <td>B</td>\n",
       "      <td>CHEMBL403882</td>\n",
       "      <td>=</td>\n",
       "      <td>nM</td>\n",
       "      <td>15000.0</td>\n",
       "      <td>CHEMBL284</td>\n",
       "      <td>Homo sapiens</td>\n",
       "      <td>IC50</td>\n",
       "    </tr>\n",
       "    <tr>\n",
       "      <th>3</th>\n",
       "      <td>108924</td>\n",
       "      <td>CHEMBL666573</td>\n",
       "      <td>In vitro inhibition of human Dipeptidylpeptida...</td>\n",
       "      <td>B</td>\n",
       "      <td>CHEMBL328795</td>\n",
       "      <td>=</td>\n",
       "      <td>nM</td>\n",
       "      <td>188000.0</td>\n",
       "      <td>CHEMBL284</td>\n",
       "      <td>Homo sapiens</td>\n",
       "      <td>IC50</td>\n",
       "    </tr>\n",
       "    <tr>\n",
       "      <th>4</th>\n",
       "      <td>111620</td>\n",
       "      <td>CHEMBL666573</td>\n",
       "      <td>In vitro inhibition of human Dipeptidylpeptida...</td>\n",
       "      <td>B</td>\n",
       "      <td>CHEMBL97674</td>\n",
       "      <td>=</td>\n",
       "      <td>nM</td>\n",
       "      <td>247000.0</td>\n",
       "      <td>CHEMBL284</td>\n",
       "      <td>Homo sapiens</td>\n",
       "      <td>IC50</td>\n",
       "    </tr>\n",
       "  </tbody>\n",
       "</table>\n",
       "</div>"
      ],
      "text/plain": [
       "   activity_id assay_chembl_id  \\\n",
       "0       105501    CHEMBL666573   \n",
       "1       106644    CHEMBL666573   \n",
       "2       106647    CHEMBL666573   \n",
       "3       108924    CHEMBL666573   \n",
       "4       111620    CHEMBL666573   \n",
       "\n",
       "                                   assay_description assay_type  \\\n",
       "0  In vitro inhibition of human Dipeptidylpeptida...          B   \n",
       "1  In vitro inhibition of human Dipeptidylpeptida...          B   \n",
       "2  In vitro inhibition of human Dipeptidylpeptida...          B   \n",
       "3  In vitro inhibition of human Dipeptidylpeptida...          B   \n",
       "4  In vitro inhibition of human Dipeptidylpeptida...          B   \n",
       "\n",
       "  molecule_chembl_id relation standard_units  standard_value target_chembl_id  \\\n",
       "0        CHEMBL93558        =             nM        217000.0        CHEMBL284   \n",
       "1       CHEMBL443622        =             nM         41000.0        CHEMBL284   \n",
       "2       CHEMBL403882        =             nM         15000.0        CHEMBL284   \n",
       "3       CHEMBL328795        =             nM        188000.0        CHEMBL284   \n",
       "4        CHEMBL97674        =             nM        247000.0        CHEMBL284   \n",
       "\n",
       "  target_organism  type  \n",
       "0    Homo sapiens  IC50  \n",
       "1    Homo sapiens  IC50  \n",
       "2    Homo sapiens  IC50  \n",
       "3    Homo sapiens  IC50  \n",
       "4    Homo sapiens  IC50  "
      ]
     },
     "execution_count": 22,
     "metadata": {},
     "output_type": "execute_result"
    }
   ],
   "source": [
    "# 5. Reset “DataFrame” index\n",
    "bioactivities_df.reset_index(drop=True, inplace=True)\n",
    "bioactivities_df.head()"
   ]
  },
  {
   "cell_type": "code",
   "execution_count": 24,
   "metadata": {},
   "outputs": [
    {
     "data": {
      "text/html": [
       "<div>\n",
       "<style scoped>\n",
       "    .dataframe tbody tr th:only-of-type {\n",
       "        vertical-align: middle;\n",
       "    }\n",
       "\n",
       "    .dataframe tbody tr th {\n",
       "        vertical-align: top;\n",
       "    }\n",
       "\n",
       "    .dataframe thead th {\n",
       "        text-align: right;\n",
       "    }\n",
       "</style>\n",
       "<table border=\"1\" class=\"dataframe\">\n",
       "  <thead>\n",
       "    <tr style=\"text-align: right;\">\n",
       "      <th></th>\n",
       "      <th>activity_id</th>\n",
       "      <th>assay_chembl_id</th>\n",
       "      <th>assay_description</th>\n",
       "      <th>assay_type</th>\n",
       "      <th>molecule_chembl_id</th>\n",
       "      <th>relation</th>\n",
       "      <th>units</th>\n",
       "      <th>IC50</th>\n",
       "      <th>target_chembl_id</th>\n",
       "      <th>target_organism</th>\n",
       "      <th>type</th>\n",
       "    </tr>\n",
       "  </thead>\n",
       "  <tbody>\n",
       "    <tr>\n",
       "      <th>0</th>\n",
       "      <td>105501</td>\n",
       "      <td>CHEMBL666573</td>\n",
       "      <td>In vitro inhibition of human Dipeptidylpeptida...</td>\n",
       "      <td>B</td>\n",
       "      <td>CHEMBL93558</td>\n",
       "      <td>=</td>\n",
       "      <td>nM</td>\n",
       "      <td>217000.0</td>\n",
       "      <td>CHEMBL284</td>\n",
       "      <td>Homo sapiens</td>\n",
       "      <td>IC50</td>\n",
       "    </tr>\n",
       "    <tr>\n",
       "      <th>1</th>\n",
       "      <td>106644</td>\n",
       "      <td>CHEMBL666573</td>\n",
       "      <td>In vitro inhibition of human Dipeptidylpeptida...</td>\n",
       "      <td>B</td>\n",
       "      <td>CHEMBL443622</td>\n",
       "      <td>=</td>\n",
       "      <td>nM</td>\n",
       "      <td>41000.0</td>\n",
       "      <td>CHEMBL284</td>\n",
       "      <td>Homo sapiens</td>\n",
       "      <td>IC50</td>\n",
       "    </tr>\n",
       "    <tr>\n",
       "      <th>2</th>\n",
       "      <td>106647</td>\n",
       "      <td>CHEMBL666573</td>\n",
       "      <td>In vitro inhibition of human Dipeptidylpeptida...</td>\n",
       "      <td>B</td>\n",
       "      <td>CHEMBL403882</td>\n",
       "      <td>=</td>\n",
       "      <td>nM</td>\n",
       "      <td>15000.0</td>\n",
       "      <td>CHEMBL284</td>\n",
       "      <td>Homo sapiens</td>\n",
       "      <td>IC50</td>\n",
       "    </tr>\n",
       "    <tr>\n",
       "      <th>3</th>\n",
       "      <td>108924</td>\n",
       "      <td>CHEMBL666573</td>\n",
       "      <td>In vitro inhibition of human Dipeptidylpeptida...</td>\n",
       "      <td>B</td>\n",
       "      <td>CHEMBL328795</td>\n",
       "      <td>=</td>\n",
       "      <td>nM</td>\n",
       "      <td>188000.0</td>\n",
       "      <td>CHEMBL284</td>\n",
       "      <td>Homo sapiens</td>\n",
       "      <td>IC50</td>\n",
       "    </tr>\n",
       "    <tr>\n",
       "      <th>4</th>\n",
       "      <td>111620</td>\n",
       "      <td>CHEMBL666573</td>\n",
       "      <td>In vitro inhibition of human Dipeptidylpeptida...</td>\n",
       "      <td>B</td>\n",
       "      <td>CHEMBL97674</td>\n",
       "      <td>=</td>\n",
       "      <td>nM</td>\n",
       "      <td>247000.0</td>\n",
       "      <td>CHEMBL284</td>\n",
       "      <td>Homo sapiens</td>\n",
       "      <td>IC50</td>\n",
       "    </tr>\n",
       "  </tbody>\n",
       "</table>\n",
       "</div>"
      ],
      "text/plain": [
       "   activity_id assay_chembl_id  \\\n",
       "0       105501    CHEMBL666573   \n",
       "1       106644    CHEMBL666573   \n",
       "2       106647    CHEMBL666573   \n",
       "3       108924    CHEMBL666573   \n",
       "4       111620    CHEMBL666573   \n",
       "\n",
       "                                   assay_description assay_type  \\\n",
       "0  In vitro inhibition of human Dipeptidylpeptida...          B   \n",
       "1  In vitro inhibition of human Dipeptidylpeptida...          B   \n",
       "2  In vitro inhibition of human Dipeptidylpeptida...          B   \n",
       "3  In vitro inhibition of human Dipeptidylpeptida...          B   \n",
       "4  In vitro inhibition of human Dipeptidylpeptida...          B   \n",
       "\n",
       "  molecule_chembl_id relation units      IC50 target_chembl_id  \\\n",
       "0        CHEMBL93558        =    nM  217000.0        CHEMBL284   \n",
       "1       CHEMBL443622        =    nM   41000.0        CHEMBL284   \n",
       "2       CHEMBL403882        =    nM   15000.0        CHEMBL284   \n",
       "3       CHEMBL328795        =    nM  188000.0        CHEMBL284   \n",
       "4        CHEMBL97674        =    nM  247000.0        CHEMBL284   \n",
       "\n",
       "  target_organism  type  \n",
       "0    Homo sapiens  IC50  \n",
       "1    Homo sapiens  IC50  \n",
       "2    Homo sapiens  IC50  \n",
       "3    Homo sapiens  IC50  \n",
       "4    Homo sapiens  IC50  "
      ]
     },
     "execution_count": 24,
     "metadata": {},
     "output_type": "execute_result"
    }
   ],
   "source": [
    "# 6. Rename columns\n",
    "bioactivities_df.rename(\n",
    "    columns={\"standard_value\": \"IC50\", \"standard_units\": \"units\"}, inplace=True\n",
    ")\n",
    "bioactivities_df.head()"
   ]
  },
  {
   "cell_type": "code",
   "execution_count": 25,
   "metadata": {},
   "outputs": [
    {
     "name": "stdout",
     "output_type": "stream",
     "text": [
      "DataFrame shape: (4405, 11)\n"
     ]
    }
   ],
   "source": [
    "print(f\"DataFrame shape: {bioactivities_df.shape}\")"
   ]
  },
  {
   "cell_type": "markdown",
   "metadata": {},
   "source": [
    "## Get compound data"
   ]
  },
  {
   "cell_type": "markdown",
   "metadata": {},
   "source": [
    "We have a DataFrame containing all molecules tested against human DPP-4 (with the respective measured bioactivity).  \n",
    "Now, we want to get the molecular structures of the molecules that are linked to respective bioactivity ChEMBL IDs."
   ]
  },
  {
   "cell_type": "code",
   "execution_count": 26,
   "metadata": {},
   "outputs": [],
   "source": [
    "# fetch compound ChEMBL IDs and structures for the compounds linked to our filtered bioactivity data.\n",
    "compounds_provider = compounds_api.filter(\n",
    "    molecule_chembl_id__in=list(bioactivities_df[\"molecule_chembl_id\"])\n",
    ").only(\"molecule_chembl_id\", \"molecule_structures\")"
   ]
  },
  {
   "cell_type": "code",
   "execution_count": 27,
   "metadata": {},
   "outputs": [
    {
     "data": {
      "application/vnd.jupyter.widget-view+json": {
       "model_id": "62e3b3c5f80647a9990ac5d64ffc4ab0",
       "version_major": 2,
       "version_minor": 0
      },
      "text/plain": [
       "  0%|          | 0/3777 [00:00<?, ?it/s]"
      ]
     },
     "metadata": {},
     "output_type": "display_data"
    }
   ],
   "source": [
    "# Download compound data from ChEMBL\n",
    "# Again, we want to export the QuerySet object into a pandas.DataFrame. Given the data volume, this can take some time. \n",
    "# For that reason, we will first obtain the list of records through tqdm, so we get a nice progress bar and some ETAs. \n",
    "# We can then pass the list of compounds to the DataFrame.\n",
    "compounds = list(tqdm(compounds_provider))"
   ]
  },
  {
   "cell_type": "code",
   "execution_count": 28,
   "metadata": {},
   "outputs": [
    {
     "name": "stdout",
     "output_type": "stream",
     "text": [
      "DataFrame shape: (3777, 2)\n"
     ]
    }
   ],
   "source": [
    "compounds_df = pd.DataFrame.from_records(\n",
    "    compounds,\n",
    ")\n",
    "print(f\"DataFrame shape: {compounds_df.shape}\")"
   ]
  },
  {
   "cell_type": "code",
   "execution_count": 29,
   "metadata": {},
   "outputs": [
    {
     "data": {
      "text/html": [
       "<div>\n",
       "<style scoped>\n",
       "    .dataframe tbody tr th:only-of-type {\n",
       "        vertical-align: middle;\n",
       "    }\n",
       "\n",
       "    .dataframe tbody tr th {\n",
       "        vertical-align: top;\n",
       "    }\n",
       "\n",
       "    .dataframe thead th {\n",
       "        text-align: right;\n",
       "    }\n",
       "</style>\n",
       "<table border=\"1\" class=\"dataframe\">\n",
       "  <thead>\n",
       "    <tr style=\"text-align: right;\">\n",
       "      <th></th>\n",
       "      <th>molecule_chembl_id</th>\n",
       "      <th>molecule_structures</th>\n",
       "    </tr>\n",
       "  </thead>\n",
       "  <tbody>\n",
       "    <tr>\n",
       "      <th>0</th>\n",
       "      <td>CHEMBL28</td>\n",
       "      <td>{'canonical_smiles': 'O=c1cc(-c2ccc(O)cc2)oc2c...</td>\n",
       "    </tr>\n",
       "    <tr>\n",
       "      <th>1</th>\n",
       "      <td>CHEMBL269277</td>\n",
       "      <td>{'canonical_smiles': 'C=C(C)[C@@H]1CC[C@]2(C(=...</td>\n",
       "    </tr>\n",
       "    <tr>\n",
       "      <th>2</th>\n",
       "      <td>CHEMBL430</td>\n",
       "      <td>{'canonical_smiles': 'CO/N=C1\\CN(c2nc3c(cc2F)c...</td>\n",
       "    </tr>\n",
       "    <tr>\n",
       "      <th>3</th>\n",
       "      <td>CHEMBL44</td>\n",
       "      <td>{'canonical_smiles': 'O=c1c(-c2ccc(O)cc2)coc2c...</td>\n",
       "    </tr>\n",
       "    <tr>\n",
       "      <th>4</th>\n",
       "      <td>CHEMBL50</td>\n",
       "      <td>{'canonical_smiles': 'O=c1c(O)c(-c2ccc(O)c(O)c...</td>\n",
       "    </tr>\n",
       "  </tbody>\n",
       "</table>\n",
       "</div>"
      ],
      "text/plain": [
       "  molecule_chembl_id                                molecule_structures\n",
       "0           CHEMBL28  {'canonical_smiles': 'O=c1cc(-c2ccc(O)cc2)oc2c...\n",
       "1       CHEMBL269277  {'canonical_smiles': 'C=C(C)[C@@H]1CC[C@]2(C(=...\n",
       "2          CHEMBL430  {'canonical_smiles': 'CO/N=C1\\CN(c2nc3c(cc2F)c...\n",
       "3           CHEMBL44  {'canonical_smiles': 'O=c1c(-c2ccc(O)cc2)coc2c...\n",
       "4           CHEMBL50  {'canonical_smiles': 'O=c1c(O)c(-c2ccc(O)c(O)c..."
      ]
     },
     "execution_count": 29,
     "metadata": {},
     "output_type": "execute_result"
    }
   ],
   "source": [
    "compounds_df.head()"
   ]
  },
  {
   "cell_type": "code",
   "execution_count": 30,
   "metadata": {},
   "outputs": [
    {
     "name": "stdout",
     "output_type": "stream",
     "text": [
      "DataFrame shape: (3773, 2)\n"
     ]
    }
   ],
   "source": [
    "# 1. Remove entries with missing molecule structure entry\n",
    "compounds_df.dropna(axis=0, how=\"any\", inplace=True)\n",
    "print(f\"DataFrame shape: {compounds_df.shape}\")"
   ]
  },
  {
   "cell_type": "code",
   "execution_count": 31,
   "metadata": {},
   "outputs": [
    {
     "name": "stdout",
     "output_type": "stream",
     "text": [
      "DataFrame shape: (3773, 2)\n"
     ]
    }
   ],
   "source": [
    "# 2. Delete duplicate molecules\n",
    "compounds_df.drop_duplicates(\"molecule_chembl_id\", keep=\"first\", inplace=True)\n",
    "print(f\"DataFrame shape: {compounds_df.shape}\")"
   ]
  },
  {
   "cell_type": "code",
   "execution_count": 32,
   "metadata": {},
   "outputs": [
    {
     "name": "stdout",
     "output_type": "stream",
     "text": [
      "DataFrame shape: (3773, 2)\n"
     ]
    }
   ],
   "source": [
    "# 3. Get molecules with canonical SMILES\n",
    "compounds_df.iloc[0].molecule_structures.keys()\n",
    "\n",
    "canonical_smiles = []\n",
    "\n",
    "for i, compounds in compounds_df.iterrows():\n",
    "    try:\n",
    "        canonical_smiles.append(compounds[\"molecule_structures\"][\"canonical_smiles\"])\n",
    "    except KeyError:\n",
    "        canonical_smiles.append(None)\n",
    "\n",
    "compounds_df[\"smiles\"] = canonical_smiles\n",
    "compounds_df.drop(\"molecule_structures\", axis=1, inplace=True)\n",
    "print(f\"DataFrame shape: {compounds_df.shape}\")"
   ]
  },
  {
   "cell_type": "code",
   "execution_count": 33,
   "metadata": {},
   "outputs": [
    {
     "name": "stdout",
     "output_type": "stream",
     "text": [
      "DataFrame shape: (3773, 2)\n"
     ]
    }
   ],
   "source": [
    "# Sanity check: Remove all molecules without a canonical SMILES string.\n",
    "compounds_df.dropna(axis=0, how=\"any\", inplace=True)\n",
    "print(f\"DataFrame shape: {compounds_df.shape}\")"
   ]
  },
  {
   "cell_type": "markdown",
   "metadata": {},
   "source": [
    "## Output (bioactivity-compound) data"
   ]
  },
  {
   "cell_type": "code",
   "execution_count": 34,
   "metadata": {},
   "outputs": [
    {
     "name": "stdout",
     "output_type": "stream",
     "text": [
      "Bioactivities filtered: 4405\n"
     ]
    },
    {
     "data": {
      "text/plain": [
       "Index(['activity_id', 'assay_chembl_id', 'assay_description', 'assay_type',\n",
       "       'molecule_chembl_id', 'relation', 'units', 'IC50', 'target_chembl_id',\n",
       "       'target_organism', 'type'],\n",
       "      dtype='object')"
      ]
     },
     "execution_count": 34,
     "metadata": {},
     "output_type": "execute_result"
    }
   ],
   "source": [
    "# Summary of compound and bioactivity data\n",
    "print(f\"Bioactivities filtered: {bioactivities_df.shape[0]}\")\n",
    "bioactivities_df.columns"
   ]
  },
  {
   "cell_type": "code",
   "execution_count": 35,
   "metadata": {},
   "outputs": [
    {
     "name": "stdout",
     "output_type": "stream",
     "text": [
      "Compounds filtered: 3773\n"
     ]
    },
    {
     "data": {
      "text/plain": [
       "Index(['molecule_chembl_id', 'smiles'], dtype='object')"
      ]
     },
     "execution_count": 35,
     "metadata": {},
     "output_type": "execute_result"
    }
   ],
   "source": [
    "print(f\"Compounds filtered: {compounds_df.shape[0]}\")\n",
    "compounds_df.columns"
   ]
  },
  {
   "cell_type": "code",
   "execution_count": 36,
   "metadata": {},
   "outputs": [
    {
     "name": "stdout",
     "output_type": "stream",
     "text": [
      "Dataset with 4401 entries.\n"
     ]
    }
   ],
   "source": [
    "# Merge both datasets\n",
    "# Merge DataFrames\n",
    "output_df = pd.merge(\n",
    "    bioactivities_df[[\"molecule_chembl_id\", \"IC50\", \"units\"]],\n",
    "    compounds_df,\n",
    "    on=\"molecule_chembl_id\",\n",
    ")\n",
    "\n",
    "# Reset row indices\n",
    "output_df.reset_index(drop=True, inplace=True)\n",
    "\n",
    "print(f\"Dataset with {output_df.shape[0]} entries.\")"
   ]
  },
  {
   "cell_type": "code",
   "execution_count": 37,
   "metadata": {},
   "outputs": [
    {
     "data": {
      "text/plain": [
       "molecule_chembl_id     object\n",
       "IC50                  float64\n",
       "units                  object\n",
       "smiles                 object\n",
       "dtype: object"
      ]
     },
     "execution_count": 37,
     "metadata": {},
     "output_type": "execute_result"
    }
   ],
   "source": [
    "output_df.dtypes"
   ]
  },
  {
   "cell_type": "code",
   "execution_count": 38,
   "metadata": {},
   "outputs": [
    {
     "data": {
      "text/html": [
       "<div>\n",
       "<style scoped>\n",
       "    .dataframe tbody tr th:only-of-type {\n",
       "        vertical-align: middle;\n",
       "    }\n",
       "\n",
       "    .dataframe tbody tr th {\n",
       "        vertical-align: top;\n",
       "    }\n",
       "\n",
       "    .dataframe thead th {\n",
       "        text-align: right;\n",
       "    }\n",
       "</style>\n",
       "<table border=\"1\" class=\"dataframe\">\n",
       "  <thead>\n",
       "    <tr style=\"text-align: right;\">\n",
       "      <th></th>\n",
       "      <th>molecule_chembl_id</th>\n",
       "      <th>IC50</th>\n",
       "      <th>units</th>\n",
       "      <th>smiles</th>\n",
       "    </tr>\n",
       "  </thead>\n",
       "  <tbody>\n",
       "    <tr>\n",
       "      <th>0</th>\n",
       "      <td>CHEMBL93558</td>\n",
       "      <td>217000.0</td>\n",
       "      <td>nM</td>\n",
       "      <td>N[C@@H](CC1CCCCC1)C(=O)N1CCCCC1</td>\n",
       "    </tr>\n",
       "    <tr>\n",
       "      <th>1</th>\n",
       "      <td>CHEMBL443622</td>\n",
       "      <td>41000.0</td>\n",
       "      <td>nM</td>\n",
       "      <td>C[C@H](N)C(=O)N1CCCC1</td>\n",
       "    </tr>\n",
       "    <tr>\n",
       "      <th>2</th>\n",
       "      <td>CHEMBL403882</td>\n",
       "      <td>15000.0</td>\n",
       "      <td>nM</td>\n",
       "      <td>O=C([C@@H]1CCCN1)N1CCCC1</td>\n",
       "    </tr>\n",
       "    <tr>\n",
       "      <th>3</th>\n",
       "      <td>CHEMBL328795</td>\n",
       "      <td>188000.0</td>\n",
       "      <td>nM</td>\n",
       "      <td>NC(=O)CC(N)C(=O)N1CCCC1</td>\n",
       "    </tr>\n",
       "    <tr>\n",
       "      <th>4</th>\n",
       "      <td>CHEMBL97674</td>\n",
       "      <td>247000.0</td>\n",
       "      <td>nM</td>\n",
       "      <td>NCCCCC(N)C(=O)N1CCCCC1</td>\n",
       "    </tr>\n",
       "    <tr>\n",
       "      <th>5</th>\n",
       "      <td>CHEMBL317126</td>\n",
       "      <td>14000.0</td>\n",
       "      <td>nM</td>\n",
       "      <td>NC(Cc1ccc(O)cc1)C(=O)N1CCCC1</td>\n",
       "    </tr>\n",
       "    <tr>\n",
       "      <th>6</th>\n",
       "      <td>CHEMBL383705</td>\n",
       "      <td>4000.0</td>\n",
       "      <td>nM</td>\n",
       "      <td>CC(C)[C@H](N)C(=O)N1CCCC1</td>\n",
       "    </tr>\n",
       "    <tr>\n",
       "      <th>7</th>\n",
       "      <td>CHEMBL94955</td>\n",
       "      <td>134900.0</td>\n",
       "      <td>nM</td>\n",
       "      <td>NCCCCC(NC(=O)OCc1ccccc1)C(=O)N1CCCCC1</td>\n",
       "    </tr>\n",
       "    <tr>\n",
       "      <th>8</th>\n",
       "      <td>CHEMBL97180</td>\n",
       "      <td>213000.0</td>\n",
       "      <td>nM</td>\n",
       "      <td>NC(Cc1c[nH]cn1)C(=O)N1CCCCC1</td>\n",
       "    </tr>\n",
       "    <tr>\n",
       "      <th>9</th>\n",
       "      <td>CHEMBL98008</td>\n",
       "      <td>17000.0</td>\n",
       "      <td>nM</td>\n",
       "      <td>N[C@@H](CC1CCCCC1)C(=O)N1CCCC1</td>\n",
       "    </tr>\n",
       "  </tbody>\n",
       "</table>\n",
       "</div>"
      ],
      "text/plain": [
       "  molecule_chembl_id      IC50 units                                 smiles\n",
       "0        CHEMBL93558  217000.0    nM        N[C@@H](CC1CCCCC1)C(=O)N1CCCCC1\n",
       "1       CHEMBL443622   41000.0    nM                  C[C@H](N)C(=O)N1CCCC1\n",
       "2       CHEMBL403882   15000.0    nM               O=C([C@@H]1CCCN1)N1CCCC1\n",
       "3       CHEMBL328795  188000.0    nM                NC(=O)CC(N)C(=O)N1CCCC1\n",
       "4        CHEMBL97674  247000.0    nM                 NCCCCC(N)C(=O)N1CCCCC1\n",
       "5       CHEMBL317126   14000.0    nM           NC(Cc1ccc(O)cc1)C(=O)N1CCCC1\n",
       "6       CHEMBL383705    4000.0    nM              CC(C)[C@H](N)C(=O)N1CCCC1\n",
       "7        CHEMBL94955  134900.0    nM  NCCCCC(NC(=O)OCc1ccccc1)C(=O)N1CCCCC1\n",
       "8        CHEMBL97180  213000.0    nM           NC(Cc1c[nH]cn1)C(=O)N1CCCCC1\n",
       "9        CHEMBL98008   17000.0    nM         N[C@@H](CC1CCCCC1)C(=O)N1CCCC1"
      ]
     },
     "execution_count": 38,
     "metadata": {},
     "output_type": "execute_result"
    }
   ],
   "source": [
    "output_df.head(10)"
   ]
  },
  {
   "cell_type": "code",
   "execution_count": 39,
   "metadata": {},
   "outputs": [],
   "source": [
    "# Add pIC50 values\n",
    "def convert_ic50_to_pic50(IC50_value):\n",
    "    pIC50_value = 9 - math.log10(IC50_value)\n",
    "    return pIC50_value"
   ]
  },
  {
   "cell_type": "code",
   "execution_count": 40,
   "metadata": {},
   "outputs": [],
   "source": [
    "# Apply conversion to each row of the compounds DataFrame\n",
    "output_df[\"pIC50\"] = output_df.apply(lambda x: convert_ic50_to_pic50(x.IC50), axis=1)"
   ]
  },
  {
   "cell_type": "code",
   "execution_count": 41,
   "metadata": {},
   "outputs": [
    {
     "data": {
      "text/html": [
       "<div>\n",
       "<style scoped>\n",
       "    .dataframe tbody tr th:only-of-type {\n",
       "        vertical-align: middle;\n",
       "    }\n",
       "\n",
       "    .dataframe tbody tr th {\n",
       "        vertical-align: top;\n",
       "    }\n",
       "\n",
       "    .dataframe thead th {\n",
       "        text-align: right;\n",
       "    }\n",
       "</style>\n",
       "<table border=\"1\" class=\"dataframe\">\n",
       "  <thead>\n",
       "    <tr style=\"text-align: right;\">\n",
       "      <th></th>\n",
       "      <th>molecule_chembl_id</th>\n",
       "      <th>IC50</th>\n",
       "      <th>units</th>\n",
       "      <th>smiles</th>\n",
       "      <th>pIC50</th>\n",
       "    </tr>\n",
       "  </thead>\n",
       "  <tbody>\n",
       "    <tr>\n",
       "      <th>0</th>\n",
       "      <td>CHEMBL93558</td>\n",
       "      <td>217000.0</td>\n",
       "      <td>nM</td>\n",
       "      <td>N[C@@H](CC1CCCCC1)C(=O)N1CCCCC1</td>\n",
       "      <td>3.663540</td>\n",
       "    </tr>\n",
       "    <tr>\n",
       "      <th>1</th>\n",
       "      <td>CHEMBL443622</td>\n",
       "      <td>41000.0</td>\n",
       "      <td>nM</td>\n",
       "      <td>C[C@H](N)C(=O)N1CCCC1</td>\n",
       "      <td>4.387216</td>\n",
       "    </tr>\n",
       "    <tr>\n",
       "      <th>2</th>\n",
       "      <td>CHEMBL403882</td>\n",
       "      <td>15000.0</td>\n",
       "      <td>nM</td>\n",
       "      <td>O=C([C@@H]1CCCN1)N1CCCC1</td>\n",
       "      <td>4.823909</td>\n",
       "    </tr>\n",
       "    <tr>\n",
       "      <th>3</th>\n",
       "      <td>CHEMBL328795</td>\n",
       "      <td>188000.0</td>\n",
       "      <td>nM</td>\n",
       "      <td>NC(=O)CC(N)C(=O)N1CCCC1</td>\n",
       "      <td>3.725842</td>\n",
       "    </tr>\n",
       "    <tr>\n",
       "      <th>4</th>\n",
       "      <td>CHEMBL97674</td>\n",
       "      <td>247000.0</td>\n",
       "      <td>nM</td>\n",
       "      <td>NCCCCC(N)C(=O)N1CCCCC1</td>\n",
       "      <td>3.607303</td>\n",
       "    </tr>\n",
       "  </tbody>\n",
       "</table>\n",
       "</div>"
      ],
      "text/plain": [
       "  molecule_chembl_id      IC50 units                           smiles  \\\n",
       "0        CHEMBL93558  217000.0    nM  N[C@@H](CC1CCCCC1)C(=O)N1CCCCC1   \n",
       "1       CHEMBL443622   41000.0    nM            C[C@H](N)C(=O)N1CCCC1   \n",
       "2       CHEMBL403882   15000.0    nM         O=C([C@@H]1CCCN1)N1CCCC1   \n",
       "3       CHEMBL328795  188000.0    nM          NC(=O)CC(N)C(=O)N1CCCC1   \n",
       "4        CHEMBL97674  247000.0    nM           NCCCCC(N)C(=O)N1CCCCC1   \n",
       "\n",
       "      pIC50  \n",
       "0  3.663540  \n",
       "1  4.387216  \n",
       "2  4.823909  \n",
       "3  3.725842  \n",
       "4  3.607303  "
      ]
     },
     "execution_count": 41,
     "metadata": {},
     "output_type": "execute_result"
    }
   ],
   "source": [
    "output_df.head()"
   ]
  },
  {
   "cell_type": "code",
   "execution_count": 42,
   "metadata": {},
   "outputs": [
    {
     "data": {
      "text/plain": [
       "array([[<Axes: title={'center': 'pIC50'}>]], dtype=object)"
      ]
     },
     "execution_count": 42,
     "metadata": {},
     "output_type": "execute_result"
    },
    {
     "data": {
      "image/png": "[encoded data removed]",
      "text/plain": [
       "<Figure size 640x480 with 1 Axes>"
      ]
     },
     "metadata": {},
     "output_type": "display_data"
    }
   ],
   "source": [
    "# Draw compound data\n",
    "output_df.hist(column=\"pIC50\")"
   ]
  },
  {
   "cell_type": "markdown",
   "metadata": {},
   "source": [
    "In the next steps, we add a column for RDKit molecule objects to our DataFrame and look at the structures of the molecules with the highest pIC50 values."
   ]
  },
  {
   "cell_type": "code",
   "execution_count": 43,
   "metadata": {},
   "outputs": [],
   "source": [
    "# Add molecule column\n",
    "PandasTools.AddMoleculeColumnToFrame(output_df, smilesCol=\"smiles\")"
   ]
  },
  {
   "cell_type": "code",
   "execution_count": 44,
   "metadata": {},
   "outputs": [],
   "source": [
    "# Sort molecules by pIC50\n",
    "output_df.sort_values(by=\"pIC50\", ascending=False, inplace=True)\n",
    "\n",
    "# Reset index\n",
    "output_df.reset_index(drop=True, inplace=True)"
   ]
  },
  {
   "cell_type": "code",
   "execution_count": 45,
   "metadata": {},
   "outputs": [
    {
     "data": {
      "text/html": [
       "<div>\n",
       "<style scoped>\n",
       "    .dataframe tbody tr th:only-of-type {\n",
       "        vertical-align: middle;\n",
       "    }\n",
       "\n",
       "    .dataframe tbody tr th {\n",
       "        vertical-align: top;\n",
       "    }\n",
       "\n",
       "    .dataframe thead th {\n",
       "        text-align: right;\n",
       "    }\n",
       "</style>\n",
       "<table border=\"1\" class=\"dataframe\">\n",
       "  <thead>\n",
       "    <tr style=\"text-align: right;\">\n",
       "      <th></th>\n",
       "      <th>molecule_chembl_id</th>\n",
       "      <th>IC50</th>\n",
       "      <th>units</th>\n",
       "      <th>pIC50</th>\n",
       "      <th>ROMol</th>\n",
       "    </tr>\n",
       "  </thead>\n",
       "  <tbody>\n",
       "    <tr>\n",
       "      <th>0</th>\n",
       "      <td>CHEMBL237119</td>\n",
       "      <td>0.012</td>\n",
       "      <td>nM</td>\n",
       "      <td>10.920819</td>\n",
       "      <td>&lt;rdkit.Chem.rdchem.Mol object at 0x173d06a50&gt;</td>\n",
       "    </tr>\n",
       "    <tr>\n",
       "      <th>1</th>\n",
       "      <td>CHEMBL4113723</td>\n",
       "      <td>0.050</td>\n",
       "      <td>nM</td>\n",
       "      <td>10.301030</td>\n",
       "      <td>&lt;rdkit.Chem.rdchem.Mol object at 0x173d3b510&gt;</td>\n",
       "    </tr>\n",
       "    <tr>\n",
       "      <th>2</th>\n",
       "      <td>CHEMBL237336</td>\n",
       "      <td>0.064</td>\n",
       "      <td>nM</td>\n",
       "      <td>10.193820</td>\n",
       "      <td>&lt;rdkit.Chem.rdchem.Mol object at 0x173d06ac0&gt;</td>\n",
       "    </tr>\n",
       "  </tbody>\n",
       "</table>\n",
       "</div>"
      ],
      "text/plain": [
       "  molecule_chembl_id   IC50 units      pIC50  \\\n",
       "0       CHEMBL237119  0.012    nM  10.920819   \n",
       "1      CHEMBL4113723  0.050    nM  10.301030   \n",
       "2       CHEMBL237336  0.064    nM  10.193820   \n",
       "\n",
       "                                           ROMol  \n",
       "0  <rdkit.Chem.rdchem.Mol object at 0x173d06a50>  \n",
       "1  <rdkit.Chem.rdchem.Mol object at 0x173d3b510>  \n",
       "2  <rdkit.Chem.rdchem.Mol object at 0x173d06ac0>  "
      ]
     },
     "execution_count": 45,
     "metadata": {},
     "output_type": "execute_result"
    }
   ],
   "source": [
    "# Show the three most active molecules, i.e. molecules with the highest pIC50 values.\n",
    "output_df.drop(\"smiles\", axis=1).head(3)"
   ]
  },
  {
   "cell_type": "code",
   "execution_count": 46,
   "metadata": {},
   "outputs": [
    {
     "name": "stdout",
     "output_type": "stream",
     "text": [
      "DataFrame shape: (4401, 5)\n"
     ]
    }
   ],
   "source": [
    "# Prepare saving the dataset: Drop the ROMol column\n",
    "output_df = output_df.drop(\"ROMol\", axis=1)\n",
    "print(f\"DataFrame shape: {output_df.shape}\")"
   ]
  },
  {
   "cell_type": "code",
   "execution_count": 48,
   "metadata": {},
   "outputs": [],
   "source": [
    "output_df.to_csv(\"output_data.csv\", index=False)"
   ]
  },
  {
   "cell_type": "code",
   "execution_count": null,
   "metadata": {},
   "outputs": [],
   "source": []
  }
 ],
 "metadata": {
  "kernelspec": {
   "display_name": "Python 3 (ipykernel)",
   "language": "python",
   "name": "python3"
  },
  "language_info": {
   "codemirror_mode": {
    "name": "ipython",
    "version": 3
   },
   "file_extension": ".py",
   "mimetype": "text/x-python",
   "name": "python",
   "nbconvert_exporter": "python",
   "pygments_lexer": "ipython3",
   "version": "3.9.18"
  }
 },
 "nbformat": 4,
 "nbformat_minor": 4
}
