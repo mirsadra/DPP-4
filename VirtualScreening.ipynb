{
  "nbformat": 4,
  "nbformat_minor": 0,
  "metadata": {
    "colab": {
      "provenance": [],
      "authorship_tag": "ABX9TyP8Y9j4EHmhSvmzUxIbY9Lv",
      "include_colab_link": true
    },
    "kernelspec": {
      "name": "python3",
      "display_name": "Python 3"
    },
    "language_info": {
      "name": "python"
    }
  },
  "cells": [
    {
      "cell_type": "markdown",
      "metadata": {
        "id": "view-in-github",
        "colab_type": "text"
      },
      "source": [
        "<a href=\"https://colab.research.google.com/github/mirsadra/DPP-4/blob/main/VirtualScreening.ipynb\" target=\"_parent\"><img src=\"https://colab.research.google.com/assets/colab-badge.svg\" alt=\"Open In Colab\"/></a>"
      ]
    },
    {
      "cell_type": "markdown",
      "source": [
        "# Workflow for Virtual Screening"
      ],
      "metadata": {
        "id": "Vfz2kJQqda1F"
      }
    },
    {
      "cell_type": "markdown",
      "source": [
        "## 1. Preparation of Protein Structures"
      ],
      "metadata": {
        "id": "HVg0GtCfdeTY"
      }
    },
    {
      "cell_type": "markdown",
      "source": [
        "**Retrieve Structures**: Download the PDB files for 7Y4F, 7Y4G, 8HAY, and 1X70 from the Protein Data Bank.\n",
        "\n",
        "**Protein Preparation**: Clean up the structures by removing water molecules and any other non-relevant molecules (e.g., ions, unless they are known to be crucial for the binding mechanism). Standardize the protonation states of amino acids and optimize the hydrogen bonding network."
      ],
      "metadata": {
        "id": "88cMoUppdkrU"
      }
    },
    {
      "cell_type": "code",
      "execution_count": null,
      "metadata": {
        "id": "FRDNOlPAdWqI"
      },
      "outputs": [],
      "source": [
        "# 1. Install Necessary Libraries: If you haven't installed these, you can do so using pip:\n",
        "!pip install biopython rdkit-pypi"
      ]
    },
    {
      "cell_type": "code",
      "source": [
        "# Step 1: Load and Clean PDB Structures\n",
        "from Bio.PDB import PDBParser, Select, PDBIO\n",
        "\n",
        "class NonWaterSelect(Select):\n",
        "    def accept_residue(self, residue):\n",
        "        return residue.get_resname() != \"HOH\"\n",
        "\n",
        "def clean_structure(input_pdb, output_pdb):\n",
        "    parser = PDBParser()\n",
        "    structure = parser.get_structure(\"Protein\", input_pdb)\n",
        "\n",
        "    # Remove water and other unwanted molecules\n",
        "    io = PDBIO()\n",
        "    io.set_structure(structure)\n",
        "    io.save(output_pdb, select=NonWaterSelect())"
      ],
      "metadata": {
        "id": "TKoKn9ujdvha"
      },
      "execution_count": 7,
      "outputs": []
    },
    {
      "cell_type": "code",
      "source": [
        "# Example usage:\n",
        "from google.colab import drive\n",
        "drive.mount('/content/drive')\n",
        "\n",
        "!ls \"/content/drive/My Drive/DPP4\"\n",
        "\n",
        "path_7y4f = '/content/drive/My Drive/DPP4/7y4f.pdb'\n",
        "\n",
        "clean_structure(path_7y4f, \"7y4f_cleaned.pdb\")"
      ],
      "metadata": {
        "id": "B4K6itJdd9gj"
      },
      "execution_count": null,
      "outputs": []
    },
    {
      "cell_type": "code",
      "source": [
        "path_7y4g = '/content/drive/My Drive/DPP4/7y4g.pdb'\n",
        "path_8hay = '/content/drive/My Drive/DPP4/8hay.pdb'\n",
        "path_1x70 = '/content/drive/My Drive/DPP4/1x70.pdb'\n",
        "\n",
        "clean_structure(path_7y4g, '7y4g_cleaned.pdb')\n",
        "clean_structure(path_8hay, '8hay_cleaned.pdb')\n",
        "clean_structure(path_1x70, '1x70_cleaned.pdb')"
      ],
      "metadata": {
        "id": "1vNT_9FXg9SZ"
      },
      "execution_count": null,
      "outputs": []
    },
    {
      "cell_type": "code",
      "source": [
        "# Step 2: Extract and Prepare Ligands\n",
        "!pip install rdkit"
      ],
      "metadata": {
        "colab": {
          "base_uri": "https://localhost:8080/"
        },
        "id": "r1S2P5jeeLs-",
        "outputId": "a6ace4ce-729a-4f38-ae80-1140d6d45302"
      },
      "execution_count": 10,
      "outputs": [
        {
          "output_type": "stream",
          "name": "stdout",
          "text": [
            "Collecting rdkit\n",
            "  Downloading rdkit-2023.9.6-cp310-cp310-manylinux_2_17_x86_64.manylinux2014_x86_64.whl (34.9 MB)\n",
            "\u001b[2K     \u001b[90m━━━━━━━━━━━━━━━━━━━━━━━━━━━━━━━━━━━━━━━━\u001b[0m \u001b[32m34.9/34.9 MB\u001b[0m \u001b[31m37.2 MB/s\u001b[0m eta \u001b[36m0:00:00\u001b[0m\n",
            "\u001b[?25hRequirement already satisfied: numpy in /usr/local/lib/python3.10/dist-packages (from rdkit) (1.25.2)\n",
            "Requirement already satisfied: Pillow in /usr/local/lib/python3.10/dist-packages (from rdkit) (9.4.0)\n",
            "Installing collected packages: rdkit\n",
            "Successfully installed rdkit-2023.9.6\n"
          ]
        }
      ]
    },
    {
      "cell_type": "code",
      "source": [
        "from Bio.PDB import PDBParser\n",
        "from rdkit import Chem\n",
        "from rdkit.Chem import rdchem\n",
        "import io\n",
        "\n",
        "def extract_and_save_ligand_from_pdb(pdb_file, ligand_resname):\n",
        "    parser = PDBParser(QUIET=True)\n",
        "    structure = parser.get_structure(\"Protein\", pdb_file)\n",
        "\n",
        "    class LigandSelect(Select):\n",
        "        def accept_residue(self, residue):\n",
        "            return residue.get_resname().strip() == ligand_resname\n",
        "\n",
        "    ligand_found = False\n",
        "    io = PDBIO()\n",
        "    for model in structure:\n",
        "        for chain in model:\n",
        "            for residue in chain:\n",
        "                if residue.get_resname().strip() == ligand_resname:\n",
        "                    ligand_found = True\n",
        "                    io.set_structure(structure)\n",
        "                    dir_path = os.path.dirname(pdb_file)\n",
        "                    output_path = os.path.join(dir_path, f\"{ligand_resname}.pdb\")\n",
        "                    io.save(output_path, LigandSelect())\n",
        "                    print(f\"Ligand PDB saved to {output_path}\")\n",
        "                    # Convert PDB to RDKit molecule\n",
        "                    mol = Chem.MolFromPDBFile(output_path, sanitize=False, removeHs=False)\n",
        "                    if mol:\n",
        "                        sdf_path = output_path.replace(\".pdb\", \".sdf\")\n",
        "                        writer = Chem.SDWriter(sdf_path)\n",
        "                        writer.write(mol)\n",
        "                        writer.close()\n",
        "                        print(f\"Ligand SDF saved to {sdf_path}\")\n",
        "                    break\n",
        "            if ligand_found:\n",
        "                break\n",
        "        if ligand_found:\n",
        "            break\n",
        "\n",
        "    if not ligand_found:\n",
        "        print(f\"No ligand with the residue name {ligand_resname} found.\")"
      ],
      "metadata": {
        "id": "caCRM4ZKh2V-"
      },
      "execution_count": 18,
      "outputs": []
    },
    {
      "cell_type": "code",
      "source": [
        "# Assuming you have PDB files or SDF files with ligands\n",
        "ligand = extract_and_save_ligand_from_pdb(path_7y4g, \"SIT\")  # Sitagliptin extraction example"
      ],
      "metadata": {
        "colab": {
          "base_uri": "https://localhost:8080/"
        },
        "id": "CQcKVogjh7Hi",
        "outputId": "68b586a2-a97f-4d6f-e056-6dadbdaae947"
      },
      "execution_count": 19,
      "outputs": [
        {
          "output_type": "stream",
          "name": "stdout",
          "text": [
            "No ligand with the residue name SIT found.\n"
          ]
        }
      ]
    },
    {
      "cell_type": "code",
      "source": [],
      "metadata": {
        "id": "H-n9Ur25h_59"
      },
      "execution_count": null,
      "outputs": []
    }
  ]
}